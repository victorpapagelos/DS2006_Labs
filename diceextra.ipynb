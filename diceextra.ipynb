{
 "cells": [
  {
   "cell_type": "code",
   "execution_count": 1,
   "id": "c3e69038",
   "metadata": {},
   "outputs": [],
   "source": [
    "import random"
   ]
  },
  {
   "cell_type": "markdown",
   "id": "533e7fc7",
   "metadata": {},
   "source": [
    "# Roll the dice"
   ]
  },
  {
   "cell_type": "code",
   "execution_count": 2,
   "id": "5ba6a0f3",
   "metadata": {},
   "outputs": [],
   "source": [
    "result = random.randint (1, 6)"
   ]
  },
  {
   "cell_type": "markdown",
   "id": "ff21291b",
   "metadata": {},
   "source": [
    "# Show the result"
   ]
  },
  {
   "cell_type": "code",
   "execution_count": 3,
   "id": "4c6a736e",
   "metadata": {},
   "outputs": [
    {
     "name": "stdout",
     "output_type": "stream",
     "text": [
      "You rolled a... 3\n"
     ]
    }
   ],
   "source": [
    "print(\"You rolled a...\", result)"
   ]
  }
 ],
 "metadata": {
  "kernelspec": {
   "display_name": ".venv (3.13.7)",
   "language": "python",
   "name": "python3"
  },
  "language_info": {
   "codemirror_mode": {
    "name": "ipython",
    "version": 3
   },
   "file_extension": ".py",
   "mimetype": "text/x-python",
   "name": "python",
   "nbconvert_exporter": "python",
   "pygments_lexer": "ipython3",
   "version": "3.13.7"
  }
 },
 "nbformat": 4,
 "nbformat_minor": 5
}
