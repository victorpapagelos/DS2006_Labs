{
 "cells": [
  {
   "cell_type": "code",
   "execution_count": 87,
   "id": "62943ec0",
   "metadata": {},
   "outputs": [],
   "source": [
    "import random"
   ]
  },
  {
   "cell_type": "markdown",
   "id": "8650b08f",
   "metadata": {},
   "source": [
    "# Input for rolling the dice"
   ]
  },
  {
   "cell_type": "code",
   "execution_count": 88,
   "id": "e3d8e2a5",
   "metadata": {},
   "outputs": [],
   "source": [
    "while True:\n",
    "    try:\n",
    "        sides = int(input(\"Enter number of sides for the die (e.g., 6, 20): \"))\n",
    "        if sides < 2:\n",
    "            print(\"A die must have at least 2 sides. Try again.\")\n",
    "            continue\n",
    "        break\n",
    "    except ValueError:\n",
    "        print(\"Please enter a valid integer.\")"
   ]
  },
  {
   "cell_type": "markdown",
   "id": "5e8339d3",
   "metadata": {},
   "source": [
    "# Roll the dice"
   ]
  },
  {
   "cell_type": "code",
   "execution_count": 89,
   "id": "77443e76",
   "metadata": {},
   "outputs": [],
   "source": [
    "result = random.randint(1, sides)"
   ]
  },
  {
   "cell_type": "markdown",
   "id": "ee94281a",
   "metadata": {},
   "source": [
    "# Show the result"
   ]
  },
  {
   "cell_type": "code",
   "execution_count": 90,
   "id": "8e2ae607",
   "metadata": {},
   "outputs": [
    {
     "name": "stdout",
     "output_type": "stream",
     "text": [
      "You rolled a 5 from a D10\n"
     ]
    }
   ],
   "source": [
    "print(f\"You rolled a {result} from a D{sides}\")"
   ]
  }
 ],
 "metadata": {
  "kernelspec": {
   "display_name": ".venv (3.13.7)",
   "language": "python",
   "name": "python3"
  },
  "language_info": {
   "codemirror_mode": {
    "name": "ipython",
    "version": 3
   },
   "file_extension": ".py",
   "mimetype": "text/x-python",
   "name": "python",
   "nbconvert_exporter": "python",
   "pygments_lexer": "ipython3",
   "version": "3.13.7"
  }
 },
 "nbformat": 4,
 "nbformat_minor": 5
}
